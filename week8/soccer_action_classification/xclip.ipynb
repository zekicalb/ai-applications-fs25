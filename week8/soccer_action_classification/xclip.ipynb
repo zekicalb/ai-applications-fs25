{
 "cells": [
  {
   "cell_type": "code",
   "execution_count": null,
   "metadata": {},
   "outputs": [],
   "source": [
    "import av\n",
    "import torch\n",
    "import numpy as np\n",
    "\n",
    "from transformers import AutoProcessor, AutoModel\n",
    "\n",
    "np.random.seed(0)\n",
    "categories = ['Soccer Corner', 'Soccer Free Kick', 'soccer Throw In']\n",
    "# Define video categories\n",
    "video_categories = {\n",
    "    \"Corner\": [\"1_CornerKick_2.mp4\"],\n",
    "    \"FreeKick\": [\"1_FreeKick_1.mp4\"],\n",
    "    \"ThrowIn\": [\"1_ThrowIn_25.mp4\"]\n",
    "}\n",
    "\n",
    "def read_video_pyav(container, indices):\n",
    "    frames = []\n",
    "    container.seek(0)\n",
    "    start_index = indices[0]\n",
    "    end_index = indices[-1]\n",
    "    for i, frame in enumerate(container.decode(video=0)):\n",
    "        if i > end_index:\n",
    "            break\n",
    "        if i >= start_index and i in indices:\n",
    "            frames.append(frame)\n",
    "    return np.stack([x.to_ndarray(format=\"rgb24\") for x in frames])\n",
    "\n",
    "def sample_frame_indices(clip_len, frame_sample_rate, seg_len):\n",
    "    converted_len = int(clip_len * frame_sample_rate)\n",
    "    end_idx = np.random.randint(converted_len, seg_len)\n",
    "    start_idx = end_idx - converted_len\n",
    "    indices = np.linspace(start_idx, end_idx, num=clip_len)\n",
    "    indices = np.clip(indices, start_idx, end_idx - 1).astype(np.int64)\n",
    "    return indices\n",
    "\n",
    "# Load and process videos by category\n",
    "video_data = {}\n",
    "for category, file_names in video_categories.items():\n",
    "    video_data[category] = []\n",
    "    for file_name in file_names:\n",
    "        container = av.open(file_name)\n",
    "        indices = sample_frame_indices(clip_len=32, frame_sample_rate=1, seg_len=container.streams.video[0].frames)\n",
    "        video = read_video_pyav(container, indices)\n",
    "        video_data[category].append(video)"
   ]
  },
  {
   "cell_type": "code",
   "execution_count": null,
   "metadata": {},
   "outputs": [],
   "source": [
    "# Load model and processor\n",
    "processor = AutoProcessor.from_pretrained(\"microsoft/xclip-base-patch16-zero-shot\")\n",
    "model = AutoModel.from_pretrained(\"microsoft/xclip-base-patch16-zero-shot\")"
   ]
  },
  {
   "cell_type": "code",
   "execution_count": null,
   "metadata": {},
   "outputs": [],
   "source": [
    "# Process each category\n",
    "for category, videos in video_data.items():\n",
    "    print(videos[0].shape)\n",
    "    print(category)\n",
    "    inputs = processor(\n",
    "        text=categories,\n",
    "        videos=[frame for video in videos for frame in video],\n",
    "        return_tensors=\"pt\",\n",
    "        padding=True,\n",
    "    )\n",
    "\n",
    "    with torch.no_grad():\n",
    "        outputs = model(**inputs)\n",
    "    \n",
    "    logits_per_video = outputs.logits_per_video\n",
    "    probs = logits_per_video.softmax(dim=1)\n",
    "    print(f\"Category: {category}\")\n",
    "    print(probs)"
   ]
  }
 ],
 "metadata": {
  "kernelspec": {
   "display_name": ".venv",
   "language": "python",
   "name": "python3"
  },
  "language_info": {
   "codemirror_mode": {
    "name": "ipython",
    "version": 3
   },
   "file_extension": ".py",
   "mimetype": "text/x-python",
   "name": "python",
   "nbconvert_exporter": "python",
   "pygments_lexer": "ipython3",
   "version": "3.13.1"
  }
 },
 "nbformat": 4,
 "nbformat_minor": 2
}
