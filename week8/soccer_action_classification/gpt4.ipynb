{
 "cells": [
  {
   "cell_type": "code",
   "execution_count": null,
   "metadata": {},
   "outputs": [],
   "source": [
    "# TODO add the OPEN_AI_KEY from moodle\n",
    "OPEN_AI_KEY = ''"
   ]
  },
  {
   "cell_type": "code",
   "execution_count": null,
   "metadata": {},
   "outputs": [],
   "source": [
    "import cv2\n",
    "import base64\n",
    "from openai import OpenAI\n",
    "\n",
    "# OpenAI API client\n",
    "client = OpenAI(api_key=OPEN_AI_KEY)\n",
    "\n",
    "# Function to encode image in Base64\n",
    "def encode_image(image_path):\n",
    "    with open(image_path, \"rb\") as image_file:\n",
    "        return base64.b64encode(image_file.read()).decode(\"utf-8\")\n",
    "\n",
    "# Extract frames from video\n",
    "def extract_frames(video_path, num_frames=8):\n",
    "    cap = cv2.VideoCapture(video_path)\n",
    "    total_frames = int(cap.get(cv2.CAP_PROP_FRAME_COUNT))\n",
    "    interval = max(1, total_frames // num_frames)\n",
    "    \n",
    "    frames = []\n",
    "    for i in range(num_frames):\n",
    "        cap.set(cv2.CAP_PROP_POS_FRAMES, i * interval)\n",
    "        ret, frame = cap.read()\n",
    "        if ret:\n",
    "            frame_path = f\"frame_{i}.jpg\"\n",
    "            cv2.imwrite(frame_path, frame)\n",
    "            frames.append(encode_image(frame_path))\n",
    "    \n",
    "    cap.release()\n",
    "    return frames\n",
    "\n",
    "# Video file and results below\n",
    "#video_path = \"1_ThrowIn_25.mp4\"\n",
    "#{\n",
    "#  \"Soccer Corner\": 0.05,\n",
    "#  \"Soccer Free Kick\": 0.10,\n",
    "#  \"Soccer Throw In\": 0.85\n",
    "#}\n",
    "\n",
    "#video_path = \"1_FreeKick_1.mp4\"\n",
    "#{\n",
    "#  \"Soccer Corner\": 0.05,\n",
    "#  \"Soccer Free Kick\": 0.90,\n",
    "#  \"Soccer Throw In\": 0.05\n",
    "#}\n",
    "\n",
    "video_path = \"1_CornerKick_3.mp4\"\n",
    "#{\n",
    "#  \"Soccer Corner\": 0.05,\n",
    "#  \"Soccer Free Kick\": 0.85,\n",
    "#  \"Soccer Throw In\": 0.10\n",
    "#}\n",
    "\n",
    "frames_base64 = extract_frames(video_path, num_frames=8)"
   ]
  },
  {
   "cell_type": "code",
   "execution_count": null,
   "metadata": {},
   "outputs": [],
   "source": [
    "# Prompt for classification\n",
    "prompt = \"Classify the soccer action in the images. The images are frames from a video. Options: 'Soccer Corner', 'Soccer Free Kick', 'Soccer Throw In'. Return a probability as JSON.\"\n",
    "\n",
    "# Prepare request payload\n",
    "message_content = [{\"type\": \"text\", \"text\": prompt}]\n",
    "for frame_b64 in frames_base64:\n",
    "    message_content.append({\n",
    "        \"type\": \"image_url\", \"image_url\": {\"url\": f\"data:image/jpeg;base64,{frame_b64}\"}\n",
    "    })\n",
    "\n",
    "# Send request to OpenAI\n",
    "completion = client.chat.completions.create(\n",
    "    model=\"gpt-4o-mini-2024-07-18\",  # Ensure you use a model that supports vision\n",
    "    messages=[{\"role\": \"user\", \"content\": message_content}]\n",
    ")\n",
    "\n",
    "# Print result\n",
    "print(completion.choices[0].message.content)\n"
   ]
  }
 ],
 "metadata": {
  "kernelspec": {
   "display_name": ".venv",
   "language": "python",
   "name": "python3"
  },
  "language_info": {
   "codemirror_mode": {
    "name": "ipython",
    "version": 3
   },
   "file_extension": ".py",
   "mimetype": "text/x-python",
   "name": "python",
   "nbconvert_exporter": "python",
   "pygments_lexer": "ipython3",
   "version": "3.13.1"
  }
 },
 "nbformat": 4,
 "nbformat_minor": 2
}
